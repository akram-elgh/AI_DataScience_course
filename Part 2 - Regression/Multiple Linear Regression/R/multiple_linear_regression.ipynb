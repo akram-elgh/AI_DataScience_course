{
 "cells": [
  {
   "cell_type": "markdown",
   "metadata": {},
   "source": [
    "# Multiple Linear Regression\n",
    "\n",
    "## Importing the dataset"
   ]
  },
  {
   "cell_type": "code",
   "execution_count": 1,
   "metadata": {
    "vscode": {
     "languageId": "r"
    }
   },
   "outputs": [
    {
     "data": {
      "text/html": [
       "<table class=\"dataframe\">\n",
       "<caption>A data.frame: 6 × 5</caption>\n",
       "<thead>\n",
       "\t<tr><th></th><th scope=col>R.D.Spend</th><th scope=col>Administration</th><th scope=col>Marketing.Spend</th><th scope=col>State</th><th scope=col>Profit</th></tr>\n",
       "\t<tr><th></th><th scope=col>&lt;dbl&gt;</th><th scope=col>&lt;dbl&gt;</th><th scope=col>&lt;dbl&gt;</th><th scope=col>&lt;chr&gt;</th><th scope=col>&lt;dbl&gt;</th></tr>\n",
       "</thead>\n",
       "<tbody>\n",
       "\t<tr><th scope=row>1</th><td>165349.2</td><td>136897.80</td><td>471784.1</td><td>New York  </td><td>192261.8</td></tr>\n",
       "\t<tr><th scope=row>2</th><td>162597.7</td><td>151377.59</td><td>443898.5</td><td>California</td><td>191792.1</td></tr>\n",
       "\t<tr><th scope=row>3</th><td>153441.5</td><td>101145.55</td><td>407934.5</td><td>Florida   </td><td>191050.4</td></tr>\n",
       "\t<tr><th scope=row>4</th><td>144372.4</td><td>118671.85</td><td>383199.6</td><td>New York  </td><td>182902.0</td></tr>\n",
       "\t<tr><th scope=row>5</th><td>142107.3</td><td> 91391.77</td><td>366168.4</td><td>Florida   </td><td>166187.9</td></tr>\n",
       "\t<tr><th scope=row>6</th><td>131876.9</td><td> 99814.71</td><td>362861.4</td><td>New York  </td><td>156991.1</td></tr>\n",
       "</tbody>\n",
       "</table>\n"
      ],
      "text/latex": [
       "A data.frame: 6 × 5\n",
       "\\begin{tabular}{r|lllll}\n",
       "  & R.D.Spend & Administration & Marketing.Spend & State & Profit\\\\\n",
       "  & <dbl> & <dbl> & <dbl> & <chr> & <dbl>\\\\\n",
       "\\hline\n",
       "\t1 & 165349.2 & 136897.80 & 471784.1 & New York   & 192261.8\\\\\n",
       "\t2 & 162597.7 & 151377.59 & 443898.5 & California & 191792.1\\\\\n",
       "\t3 & 153441.5 & 101145.55 & 407934.5 & Florida    & 191050.4\\\\\n",
       "\t4 & 144372.4 & 118671.85 & 383199.6 & New York   & 182902.0\\\\\n",
       "\t5 & 142107.3 &  91391.77 & 366168.4 & Florida    & 166187.9\\\\\n",
       "\t6 & 131876.9 &  99814.71 & 362861.4 & New York   & 156991.1\\\\\n",
       "\\end{tabular}\n"
      ],
      "text/markdown": [
       "\n",
       "A data.frame: 6 × 5\n",
       "\n",
       "| <!--/--> | R.D.Spend &lt;dbl&gt; | Administration &lt;dbl&gt; | Marketing.Spend &lt;dbl&gt; | State &lt;chr&gt; | Profit &lt;dbl&gt; |\n",
       "|---|---|---|---|---|---|\n",
       "| 1 | 165349.2 | 136897.80 | 471784.1 | New York   | 192261.8 |\n",
       "| 2 | 162597.7 | 151377.59 | 443898.5 | California | 191792.1 |\n",
       "| 3 | 153441.5 | 101145.55 | 407934.5 | Florida    | 191050.4 |\n",
       "| 4 | 144372.4 | 118671.85 | 383199.6 | New York   | 182902.0 |\n",
       "| 5 | 142107.3 |  91391.77 | 366168.4 | Florida    | 166187.9 |\n",
       "| 6 | 131876.9 |  99814.71 | 362861.4 | New York   | 156991.1 |\n",
       "\n"
      ],
      "text/plain": [
       "  R.D.Spend Administration Marketing.Spend State      Profit  \n",
       "1 165349.2  136897.80      471784.1        New York   192261.8\n",
       "2 162597.7  151377.59      443898.5        California 191792.1\n",
       "3 153441.5  101145.55      407934.5        Florida    191050.4\n",
       "4 144372.4  118671.85      383199.6        New York   182902.0\n",
       "5 142107.3   91391.77      366168.4        Florida    166187.9\n",
       "6 131876.9   99814.71      362861.4        New York   156991.1"
      ]
     },
     "metadata": {},
     "output_type": "display_data"
    }
   ],
   "source": [
    "dataset <- read.csv(\"../data/50_Startups.csv\")\n",
    "head(dataset)"
   ]
  },
  {
   "cell_type": "markdown",
   "metadata": {},
   "source": [
    "## Splitting the dataset into the Training set and Test set"
   ]
  },
  {
   "cell_type": "code",
   "execution_count": 3,
   "metadata": {
    "vscode": {
     "languageId": "r"
    }
   },
   "outputs": [
    {
     "data": {
      "text/html": [
       "<table class=\"dataframe\">\n",
       "<caption>A data.frame: 6 × 5</caption>\n",
       "<thead>\n",
       "\t<tr><th></th><th scope=col>R.D.Spend</th><th scope=col>Administration</th><th scope=col>Marketing.Spend</th><th scope=col>State</th><th scope=col>Profit</th></tr>\n",
       "\t<tr><th></th><th scope=col>&lt;dbl&gt;</th><th scope=col>&lt;dbl&gt;</th><th scope=col>&lt;dbl&gt;</th><th scope=col>&lt;chr&gt;</th><th scope=col>&lt;dbl&gt;</th></tr>\n",
       "</thead>\n",
       "<tbody>\n",
       "\t<tr><th scope=row>1</th><td>165349.2</td><td>136897.80</td><td>471784.1</td><td>New York  </td><td>192261.8</td></tr>\n",
       "\t<tr><th scope=row>2</th><td>162597.7</td><td>151377.59</td><td>443898.5</td><td>California</td><td>191792.1</td></tr>\n",
       "\t<tr><th scope=row>3</th><td>153441.5</td><td>101145.55</td><td>407934.5</td><td>Florida   </td><td>191050.4</td></tr>\n",
       "\t<tr><th scope=row>6</th><td>131876.9</td><td> 99814.71</td><td>362861.4</td><td>New York  </td><td>156991.1</td></tr>\n",
       "\t<tr><th scope=row>7</th><td>134615.5</td><td>147198.87</td><td>127716.8</td><td>California</td><td>156122.5</td></tr>\n",
       "\t<tr><th scope=row>9</th><td>120542.5</td><td>148718.95</td><td>311613.3</td><td>New York  </td><td>152211.8</td></tr>\n",
       "</tbody>\n",
       "</table>\n"
      ],
      "text/latex": [
       "A data.frame: 6 × 5\n",
       "\\begin{tabular}{r|lllll}\n",
       "  & R.D.Spend & Administration & Marketing.Spend & State & Profit\\\\\n",
       "  & <dbl> & <dbl> & <dbl> & <chr> & <dbl>\\\\\n",
       "\\hline\n",
       "\t1 & 165349.2 & 136897.80 & 471784.1 & New York   & 192261.8\\\\\n",
       "\t2 & 162597.7 & 151377.59 & 443898.5 & California & 191792.1\\\\\n",
       "\t3 & 153441.5 & 101145.55 & 407934.5 & Florida    & 191050.4\\\\\n",
       "\t6 & 131876.9 &  99814.71 & 362861.4 & New York   & 156991.1\\\\\n",
       "\t7 & 134615.5 & 147198.87 & 127716.8 & California & 156122.5\\\\\n",
       "\t9 & 120542.5 & 148718.95 & 311613.3 & New York   & 152211.8\\\\\n",
       "\\end{tabular}\n"
      ],
      "text/markdown": [
       "\n",
       "A data.frame: 6 × 5\n",
       "\n",
       "| <!--/--> | R.D.Spend &lt;dbl&gt; | Administration &lt;dbl&gt; | Marketing.Spend &lt;dbl&gt; | State &lt;chr&gt; | Profit &lt;dbl&gt; |\n",
       "|---|---|---|---|---|---|\n",
       "| 1 | 165349.2 | 136897.80 | 471784.1 | New York   | 192261.8 |\n",
       "| 2 | 162597.7 | 151377.59 | 443898.5 | California | 191792.1 |\n",
       "| 3 | 153441.5 | 101145.55 | 407934.5 | Florida    | 191050.4 |\n",
       "| 6 | 131876.9 |  99814.71 | 362861.4 | New York   | 156991.1 |\n",
       "| 7 | 134615.5 | 147198.87 | 127716.8 | California | 156122.5 |\n",
       "| 9 | 120542.5 | 148718.95 | 311613.3 | New York   | 152211.8 |\n",
       "\n"
      ],
      "text/plain": [
       "  R.D.Spend Administration Marketing.Spend State      Profit  \n",
       "1 165349.2  136897.80      471784.1        New York   192261.8\n",
       "2 162597.7  151377.59      443898.5        California 191792.1\n",
       "3 153441.5  101145.55      407934.5        Florida    191050.4\n",
       "6 131876.9   99814.71      362861.4        New York   156991.1\n",
       "7 134615.5  147198.87      127716.8        California 156122.5\n",
       "9 120542.5  148718.95      311613.3        New York   152211.8"
      ]
     },
     "metadata": {},
     "output_type": "display_data"
    },
    {
     "data": {
      "text/html": [
       "<table class=\"dataframe\">\n",
       "<caption>A data.frame: 6 × 5</caption>\n",
       "<thead>\n",
       "\t<tr><th></th><th scope=col>R.D.Spend</th><th scope=col>Administration</th><th scope=col>Marketing.Spend</th><th scope=col>State</th><th scope=col>Profit</th></tr>\n",
       "\t<tr><th></th><th scope=col>&lt;dbl&gt;</th><th scope=col>&lt;dbl&gt;</th><th scope=col>&lt;dbl&gt;</th><th scope=col>&lt;chr&gt;</th><th scope=col>&lt;dbl&gt;</th></tr>\n",
       "</thead>\n",
       "<tbody>\n",
       "\t<tr><th scope=row>4</th><td>144372.4</td><td>118671.85</td><td>383199.6</td><td>New York</td><td>182902.0</td></tr>\n",
       "\t<tr><th scope=row>5</th><td>142107.3</td><td> 91391.77</td><td>366168.4</td><td>Florida </td><td>166187.9</td></tr>\n",
       "\t<tr><th scope=row>8</th><td>130298.1</td><td>145530.06</td><td>323876.7</td><td>Florida </td><td>155752.6</td></tr>\n",
       "\t<tr><th scope=row>11</th><td>101913.1</td><td>110594.11</td><td>229161.0</td><td>Florida </td><td>146122.0</td></tr>\n",
       "\t<tr><th scope=row>16</th><td>114523.6</td><td>122616.84</td><td>261776.2</td><td>New York</td><td>129917.0</td></tr>\n",
       "\t<tr><th scope=row>20</th><td> 86419.7</td><td>153514.11</td><td>     0.0</td><td>New York</td><td>122776.9</td></tr>\n",
       "</tbody>\n",
       "</table>\n"
      ],
      "text/latex": [
       "A data.frame: 6 × 5\n",
       "\\begin{tabular}{r|lllll}\n",
       "  & R.D.Spend & Administration & Marketing.Spend & State & Profit\\\\\n",
       "  & <dbl> & <dbl> & <dbl> & <chr> & <dbl>\\\\\n",
       "\\hline\n",
       "\t4 & 144372.4 & 118671.85 & 383199.6 & New York & 182902.0\\\\\n",
       "\t5 & 142107.3 &  91391.77 & 366168.4 & Florida  & 166187.9\\\\\n",
       "\t8 & 130298.1 & 145530.06 & 323876.7 & Florida  & 155752.6\\\\\n",
       "\t11 & 101913.1 & 110594.11 & 229161.0 & Florida  & 146122.0\\\\\n",
       "\t16 & 114523.6 & 122616.84 & 261776.2 & New York & 129917.0\\\\\n",
       "\t20 &  86419.7 & 153514.11 &      0.0 & New York & 122776.9\\\\\n",
       "\\end{tabular}\n"
      ],
      "text/markdown": [
       "\n",
       "A data.frame: 6 × 5\n",
       "\n",
       "| <!--/--> | R.D.Spend &lt;dbl&gt; | Administration &lt;dbl&gt; | Marketing.Spend &lt;dbl&gt; | State &lt;chr&gt; | Profit &lt;dbl&gt; |\n",
       "|---|---|---|---|---|---|\n",
       "| 4 | 144372.4 | 118671.85 | 383199.6 | New York | 182902.0 |\n",
       "| 5 | 142107.3 |  91391.77 | 366168.4 | Florida  | 166187.9 |\n",
       "| 8 | 130298.1 | 145530.06 | 323876.7 | Florida  | 155752.6 |\n",
       "| 11 | 101913.1 | 110594.11 | 229161.0 | Florida  | 146122.0 |\n",
       "| 16 | 114523.6 | 122616.84 | 261776.2 | New York | 129917.0 |\n",
       "| 20 |  86419.7 | 153514.11 |      0.0 | New York | 122776.9 |\n",
       "\n"
      ],
      "text/plain": [
       "   R.D.Spend Administration Marketing.Spend State    Profit  \n",
       "4  144372.4  118671.85      383199.6        New York 182902.0\n",
       "5  142107.3   91391.77      366168.4        Florida  166187.9\n",
       "8  130298.1  145530.06      323876.7        Florida  155752.6\n",
       "11 101913.1  110594.11      229161.0        Florida  146122.0\n",
       "16 114523.6  122616.84      261776.2        New York 129917.0\n",
       "20  86419.7  153514.11           0.0        New York 122776.9"
      ]
     },
     "metadata": {},
     "output_type": "display_data"
    }
   ],
   "source": [
    "# install.packages(\"caTools\")\n",
    "library(caTools)\n",
    "set.seed(123)\n",
    "# change the dependent variable accordingly to the dataset\n",
    "split <- sample.split(dataset$Profit, SplitRatio = 0.8)\n",
    "training_set <- subset(dataset, split == TRUE)\n",
    "test_set <- subset(dataset, split == FALSE)\n",
    "head(training_set)\n",
    "head(test_set)"
   ]
  },
  {
   "cell_type": "markdown",
   "metadata": {},
   "source": [
    "## Fitting Multiple Linear Regression to the Training set"
   ]
  },
  {
   "cell_type": "code",
   "execution_count": 5,
   "metadata": {
    "vscode": {
     "languageId": "r"
    }
   },
   "outputs": [],
   "source": [
    "regressor <- lm(formula = Profit ~ .,\n",
    "               data = training_set)"
   ]
  },
  {
   "cell_type": "markdown",
   "metadata": {},
   "source": [
    "## Predicting the Test set results"
   ]
  },
  {
   "cell_type": "code",
   "execution_count": 6,
   "metadata": {
    "vscode": {
     "languageId": "r"
    }
   },
   "outputs": [],
   "source": [
    "y_pred <- predict(regressor, newdata = test_set)"
   ]
  }
 ],
 "metadata": {
  "kernelspec": {
   "display_name": "R",
   "language": "R",
   "name": "ir"
  },
  "language_info": {
   "codemirror_mode": "r",
   "file_extension": ".r",
   "mimetype": "text/x-r-source",
   "name": "R",
   "pygments_lexer": "r",
   "version": "4.1.2"
  }
 },
 "nbformat": 4,
 "nbformat_minor": 2
}
